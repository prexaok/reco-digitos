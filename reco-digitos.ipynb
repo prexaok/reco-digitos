{
 "cells": [
  {
   "cell_type": "markdown",
   "metadata": {},
   "source": [
    "# Reconocimiento de dígitos con CNN y análisis de ruido"
   ]
  },
  {
   "cell_type": "markdown",
   "metadata": {},
   "source": [
    "En esta notebook, introducimos una manera de alcanzar una accuracy de validación de $99.5\\%$ para la detección de dígitos manuscritos utilizando una red neuronal convolucional (CNN) construida con Keras y entrenada con el dataset MNIST.\n",
    "\n",
    "Primero, presentamos un breve análisis de los datos que incluye balance de clases y un análisis de ruido en las imágenes. Luego, probamos diferentes arquitecturas para la red e introducimos algunas de las capas básicas utilizadas en estos casos como $\\textit{Drop Out}$ y $\\textit{Maxpooling}$."
   ]
  },
  {
   "cell_type": "markdown",
   "metadata": {},
   "source": [
    "## Análisis de datos"
   ]
  },
  {
   "cell_type": "markdown",
   "metadata": {},
   "source": [
    "### Dataset y balance de clases"
   ]
  },
  {
   "cell_type": "markdown",
   "metadata": {},
   "source": [
    "Importamos algunos módulos fundamentales:"
   ]
  },
  {
   "cell_type": "code",
   "execution_count": 1,
   "metadata": {},
   "outputs": [
    {
     "name": "stderr",
     "output_type": "stream",
     "text": [
      "Using TensorFlow backend.\n"
     ]
    }
   ],
   "source": [
    "import pandas as pd\n",
    "import numpy as np\n",
    "import matplotlib.pyplot as plt\n",
    "import seaborn as sns\n",
    "import keras\n",
    "from keras.models import Sequential\n",
    "from keras.layers import Dense, Dropout, Flatten, Conv2D, MaxPool2D\n",
    "from sklearn.model_selection import train_test_split\n",
    "from sklearn.preprocessing import OneHotEncoder\n",
    "from keras.callbacks import ReduceLROnPlateau\n",
    "from keras.optimizers import RMSprop\n",
    "from keras.preprocessing.image import ImageDataGenerator\n",
    "from keras.utils.vis_utils import plot_model\n",
    "random_seed = 24\n",
    "%matplotlib inline\n",
    "import os\n",
    "os.environ['TF_CPP_MIN_LOG_LEVEL'] = '2' "
   ]
  },
  {
   "cell_type": "markdown",
   "metadata": {},
   "source": [
    "Lo primero siempre es dividir el $\\textit{dataset}$ y reservar una fracción del mismo para la instancia de prueba del modelo. De esa manera, nos quedamos con $\\texttt{X_test}$ y $\\texttt{X_train}$. Además, guardamos las clases en una variable $\\texttt{y_test}$."
   ]
  },
  {
   "cell_type": "code",
   "execution_count": 22,
   "metadata": {},
   "outputs": [],
   "source": [
    "train, X_test = pd.read_csv('train.csv'), pd.read_csv('test.csv')"
   ]
  },
  {
   "cell_type": "code",
   "execution_count": 23,
   "metadata": {},
   "outputs": [],
   "source": [
    "X_train = train.drop(columns = 'label')\n",
    "y_train = train.label\n",
    "del train"
   ]
  },
  {
   "cell_type": "markdown",
   "metadata": {},
   "source": [
    "Veamos como está ordenado nuestro dataset. Para esto imprimimos las primeras 10 instancias:"
   ]
  },
  {
   "cell_type": "code",
   "execution_count": 4,
   "metadata": {},
   "outputs": [
    {
     "data": {
      "text/html": [
       "<div>\n",
       "<style scoped>\n",
       "    .dataframe tbody tr th:only-of-type {\n",
       "        vertical-align: middle;\n",
       "    }\n",
       "\n",
       "    .dataframe tbody tr th {\n",
       "        vertical-align: top;\n",
       "    }\n",
       "\n",
       "    .dataframe thead th {\n",
       "        text-align: right;\n",
       "    }\n",
       "</style>\n",
       "<table border=\"1\" class=\"dataframe\">\n",
       "  <thead>\n",
       "    <tr style=\"text-align: right;\">\n",
       "      <th></th>\n",
       "      <th>pixel0</th>\n",
       "      <th>pixel1</th>\n",
       "      <th>pixel2</th>\n",
       "      <th>pixel3</th>\n",
       "      <th>pixel4</th>\n",
       "      <th>pixel5</th>\n",
       "      <th>pixel6</th>\n",
       "      <th>pixel7</th>\n",
       "      <th>pixel8</th>\n",
       "      <th>pixel9</th>\n",
       "      <th>...</th>\n",
       "      <th>pixel774</th>\n",
       "      <th>pixel775</th>\n",
       "      <th>pixel776</th>\n",
       "      <th>pixel777</th>\n",
       "      <th>pixel778</th>\n",
       "      <th>pixel779</th>\n",
       "      <th>pixel780</th>\n",
       "      <th>pixel781</th>\n",
       "      <th>pixel782</th>\n",
       "      <th>pixel783</th>\n",
       "    </tr>\n",
       "  </thead>\n",
       "  <tbody>\n",
       "    <tr>\n",
       "      <th>0</th>\n",
       "      <td>0</td>\n",
       "      <td>0</td>\n",
       "      <td>0</td>\n",
       "      <td>0</td>\n",
       "      <td>0</td>\n",
       "      <td>0</td>\n",
       "      <td>0</td>\n",
       "      <td>0</td>\n",
       "      <td>0</td>\n",
       "      <td>0</td>\n",
       "      <td>...</td>\n",
       "      <td>0</td>\n",
       "      <td>0</td>\n",
       "      <td>0</td>\n",
       "      <td>0</td>\n",
       "      <td>0</td>\n",
       "      <td>0</td>\n",
       "      <td>0</td>\n",
       "      <td>0</td>\n",
       "      <td>0</td>\n",
       "      <td>0</td>\n",
       "    </tr>\n",
       "    <tr>\n",
       "      <th>1</th>\n",
       "      <td>0</td>\n",
       "      <td>0</td>\n",
       "      <td>0</td>\n",
       "      <td>0</td>\n",
       "      <td>0</td>\n",
       "      <td>0</td>\n",
       "      <td>0</td>\n",
       "      <td>0</td>\n",
       "      <td>0</td>\n",
       "      <td>0</td>\n",
       "      <td>...</td>\n",
       "      <td>0</td>\n",
       "      <td>0</td>\n",
       "      <td>0</td>\n",
       "      <td>0</td>\n",
       "      <td>0</td>\n",
       "      <td>0</td>\n",
       "      <td>0</td>\n",
       "      <td>0</td>\n",
       "      <td>0</td>\n",
       "      <td>0</td>\n",
       "    </tr>\n",
       "    <tr>\n",
       "      <th>2</th>\n",
       "      <td>0</td>\n",
       "      <td>0</td>\n",
       "      <td>0</td>\n",
       "      <td>0</td>\n",
       "      <td>0</td>\n",
       "      <td>0</td>\n",
       "      <td>0</td>\n",
       "      <td>0</td>\n",
       "      <td>0</td>\n",
       "      <td>0</td>\n",
       "      <td>...</td>\n",
       "      <td>0</td>\n",
       "      <td>0</td>\n",
       "      <td>0</td>\n",
       "      <td>0</td>\n",
       "      <td>0</td>\n",
       "      <td>0</td>\n",
       "      <td>0</td>\n",
       "      <td>0</td>\n",
       "      <td>0</td>\n",
       "      <td>0</td>\n",
       "    </tr>\n",
       "    <tr>\n",
       "      <th>3</th>\n",
       "      <td>0</td>\n",
       "      <td>0</td>\n",
       "      <td>0</td>\n",
       "      <td>0</td>\n",
       "      <td>0</td>\n",
       "      <td>0</td>\n",
       "      <td>0</td>\n",
       "      <td>0</td>\n",
       "      <td>0</td>\n",
       "      <td>0</td>\n",
       "      <td>...</td>\n",
       "      <td>0</td>\n",
       "      <td>0</td>\n",
       "      <td>0</td>\n",
       "      <td>0</td>\n",
       "      <td>0</td>\n",
       "      <td>0</td>\n",
       "      <td>0</td>\n",
       "      <td>0</td>\n",
       "      <td>0</td>\n",
       "      <td>0</td>\n",
       "    </tr>\n",
       "    <tr>\n",
       "      <th>4</th>\n",
       "      <td>0</td>\n",
       "      <td>0</td>\n",
       "      <td>0</td>\n",
       "      <td>0</td>\n",
       "      <td>0</td>\n",
       "      <td>0</td>\n",
       "      <td>0</td>\n",
       "      <td>0</td>\n",
       "      <td>0</td>\n",
       "      <td>0</td>\n",
       "      <td>...</td>\n",
       "      <td>0</td>\n",
       "      <td>0</td>\n",
       "      <td>0</td>\n",
       "      <td>0</td>\n",
       "      <td>0</td>\n",
       "      <td>0</td>\n",
       "      <td>0</td>\n",
       "      <td>0</td>\n",
       "      <td>0</td>\n",
       "      <td>0</td>\n",
       "    </tr>\n",
       "    <tr>\n",
       "      <th>5</th>\n",
       "      <td>0</td>\n",
       "      <td>0</td>\n",
       "      <td>0</td>\n",
       "      <td>0</td>\n",
       "      <td>0</td>\n",
       "      <td>0</td>\n",
       "      <td>0</td>\n",
       "      <td>0</td>\n",
       "      <td>0</td>\n",
       "      <td>0</td>\n",
       "      <td>...</td>\n",
       "      <td>0</td>\n",
       "      <td>0</td>\n",
       "      <td>0</td>\n",
       "      <td>0</td>\n",
       "      <td>0</td>\n",
       "      <td>0</td>\n",
       "      <td>0</td>\n",
       "      <td>0</td>\n",
       "      <td>0</td>\n",
       "      <td>0</td>\n",
       "    </tr>\n",
       "    <tr>\n",
       "      <th>6</th>\n",
       "      <td>0</td>\n",
       "      <td>0</td>\n",
       "      <td>0</td>\n",
       "      <td>0</td>\n",
       "      <td>0</td>\n",
       "      <td>0</td>\n",
       "      <td>0</td>\n",
       "      <td>0</td>\n",
       "      <td>0</td>\n",
       "      <td>0</td>\n",
       "      <td>...</td>\n",
       "      <td>0</td>\n",
       "      <td>0</td>\n",
       "      <td>0</td>\n",
       "      <td>0</td>\n",
       "      <td>0</td>\n",
       "      <td>0</td>\n",
       "      <td>0</td>\n",
       "      <td>0</td>\n",
       "      <td>0</td>\n",
       "      <td>0</td>\n",
       "    </tr>\n",
       "    <tr>\n",
       "      <th>7</th>\n",
       "      <td>0</td>\n",
       "      <td>0</td>\n",
       "      <td>0</td>\n",
       "      <td>0</td>\n",
       "      <td>0</td>\n",
       "      <td>0</td>\n",
       "      <td>0</td>\n",
       "      <td>0</td>\n",
       "      <td>0</td>\n",
       "      <td>0</td>\n",
       "      <td>...</td>\n",
       "      <td>0</td>\n",
       "      <td>0</td>\n",
       "      <td>0</td>\n",
       "      <td>0</td>\n",
       "      <td>0</td>\n",
       "      <td>0</td>\n",
       "      <td>0</td>\n",
       "      <td>0</td>\n",
       "      <td>0</td>\n",
       "      <td>0</td>\n",
       "    </tr>\n",
       "    <tr>\n",
       "      <th>8</th>\n",
       "      <td>0</td>\n",
       "      <td>0</td>\n",
       "      <td>0</td>\n",
       "      <td>0</td>\n",
       "      <td>0</td>\n",
       "      <td>0</td>\n",
       "      <td>0</td>\n",
       "      <td>0</td>\n",
       "      <td>0</td>\n",
       "      <td>0</td>\n",
       "      <td>...</td>\n",
       "      <td>0</td>\n",
       "      <td>0</td>\n",
       "      <td>0</td>\n",
       "      <td>0</td>\n",
       "      <td>0</td>\n",
       "      <td>0</td>\n",
       "      <td>0</td>\n",
       "      <td>0</td>\n",
       "      <td>0</td>\n",
       "      <td>0</td>\n",
       "    </tr>\n",
       "    <tr>\n",
       "      <th>9</th>\n",
       "      <td>0</td>\n",
       "      <td>0</td>\n",
       "      <td>0</td>\n",
       "      <td>0</td>\n",
       "      <td>0</td>\n",
       "      <td>0</td>\n",
       "      <td>0</td>\n",
       "      <td>0</td>\n",
       "      <td>0</td>\n",
       "      <td>0</td>\n",
       "      <td>...</td>\n",
       "      <td>0</td>\n",
       "      <td>0</td>\n",
       "      <td>0</td>\n",
       "      <td>0</td>\n",
       "      <td>0</td>\n",
       "      <td>0</td>\n",
       "      <td>0</td>\n",
       "      <td>0</td>\n",
       "      <td>0</td>\n",
       "      <td>0</td>\n",
       "    </tr>\n",
       "  </tbody>\n",
       "</table>\n",
       "<p>10 rows × 784 columns</p>\n",
       "</div>"
      ],
      "text/plain": [
       "   pixel0  pixel1  pixel2  pixel3  pixel4  pixel5  pixel6  pixel7  pixel8  \\\n",
       "0       0       0       0       0       0       0       0       0       0   \n",
       "1       0       0       0       0       0       0       0       0       0   \n",
       "2       0       0       0       0       0       0       0       0       0   \n",
       "3       0       0       0       0       0       0       0       0       0   \n",
       "4       0       0       0       0       0       0       0       0       0   \n",
       "5       0       0       0       0       0       0       0       0       0   \n",
       "6       0       0       0       0       0       0       0       0       0   \n",
       "7       0       0       0       0       0       0       0       0       0   \n",
       "8       0       0       0       0       0       0       0       0       0   \n",
       "9       0       0       0       0       0       0       0       0       0   \n",
       "\n",
       "   pixel9  ...  pixel774  pixel775  pixel776  pixel777  pixel778  pixel779  \\\n",
       "0       0  ...         0         0         0         0         0         0   \n",
       "1       0  ...         0         0         0         0         0         0   \n",
       "2       0  ...         0         0         0         0         0         0   \n",
       "3       0  ...         0         0         0         0         0         0   \n",
       "4       0  ...         0         0         0         0         0         0   \n",
       "5       0  ...         0         0         0         0         0         0   \n",
       "6       0  ...         0         0         0         0         0         0   \n",
       "7       0  ...         0         0         0         0         0         0   \n",
       "8       0  ...         0         0         0         0         0         0   \n",
       "9       0  ...         0         0         0         0         0         0   \n",
       "\n",
       "   pixel780  pixel781  pixel782  pixel783  \n",
       "0         0         0         0         0  \n",
       "1         0         0         0         0  \n",
       "2         0         0         0         0  \n",
       "3         0         0         0         0  \n",
       "4         0         0         0         0  \n",
       "5         0         0         0         0  \n",
       "6         0         0         0         0  \n",
       "7         0         0         0         0  \n",
       "8         0         0         0         0  \n",
       "9         0         0         0         0  \n",
       "\n",
       "[10 rows x 784 columns]"
      ]
     },
     "execution_count": 4,
     "metadata": {},
     "output_type": "execute_result"
    }
   ],
   "source": [
    "X_train.head(10)"
   ]
  },
  {
   "cell_type": "markdown",
   "metadata": {},
   "source": [
    "Cada imagen cuadrada corresponde a una fila de nuestro dataset, en la que los $28x28$ pixels fueron ordenados en una misma tira de 784 componentes. Si quisiéramos reobtener la imagen, deberíamos transformar cada fila a una matriz de $28x28$."
   ]
  },
  {
   "cell_type": "markdown",
   "metadata": {},
   "source": [
    "Para entender al tipo de problema al que nos enfrentamos, es importante estudiar el $\\textbf{balance de clases}$. Un problema desbalanceado puede implicar diferentes técnicas para balancear el dataset o pesar el proceso de aprendizaje para tener en cuenta este desbalance. Además, el balance de clases es importante a la hora de elegir un score con el cuál medir el aprendizaje. Para esto, hacemos un conteo de ocurrencias de cada clase y lo volcamos a un histograma."
   ]
  },
  {
   "cell_type": "code",
   "execution_count": 6,
   "metadata": {},
   "outputs": [
    {
     "data": {
      "image/png": "[encoded data removed]",
      "text/plain": [
       "<Figure size 432x288 with 1 Axes>"
      ]
     },
     "metadata": {
      "needs_background": "light"
     },
     "output_type": "display_data"
    }
   ],
   "source": [
    "sns.countplot(y_train)\n",
    "plt.show()"
   ]
  },
  {
   "cell_type": "markdown",
   "metadata": {},
   "source": [
    "Como vemos, nuestro problema está bien balanceado. Teniendo en cuenta el tamaño del dataset, todas las clases presentan aproximadamente la misma cantidad de ocurrencias. $\\textbf{Esto es bueno}$. Para empezar, no tendremos la necesidad de abordar el balance de clases con herramientas extra. Además, para un problema bien balanceado, $\\textit{Accuracy}$ suele ser un buen score para realizar un seguimiento del aprendizaje. En otros casos, es conveniente prestar mayor atención a otros scores como $\\textit{Recall}$, $\\textit{Precition}$ o directamente $\\textit{F1-score}$"
   ]
  },
  {
   "cell_type": "markdown",
   "metadata": {},
   "source": [
    "### Caracterización y filtrado del ruido"
   ]
  },
  {
   "cell_type": "markdown",
   "metadata": {},
   "source": [
    "A continuación, reordenamos las instancias de nuestro dataset para reobtener las imágenes originales. Esto significa convertir cada vector de $1x784$ en una matriz cuadrada de $28x28$:"
   ]
  },
  {
   "cell_type": "code",
   "execution_count": 7,
   "metadata": {},
   "outputs": [],
   "source": [
    "X_train = X_train.values.reshape(-1,28,28,1)\n",
    "X_test = X_test.values.reshape(-1,28,28,1)\n",
    "y_train = keras.utils.to_categorical(y_train.values, 10)\n",
    "X_train = X_train/X_train.max()\n",
    "X_test = X_test/X_test.max()"
   ]
  },
  {
   "cell_type": "markdown",
   "metadata": {},
   "source": [
    "Imprimimos el resultado:"
   ]
  },
  {
   "cell_type": "code",
   "execution_count": 8,
   "metadata": {
    "scrolled": false
   },
   "outputs": [
    {
     "data": {
      "image/png": "[encoded data removed]",
      "text/plain": [
       "<Figure size 1080x1080 with 9 Axes>"
      ]
     },
     "metadata": {},
     "output_type": "display_data"
    }
   ],
   "source": [
    "fig = plt.figure(figsize = (15,15))\n",
    "for i in range(0,9):\n",
    "    plt.subplot(3,3,i+1)\n",
    "    plt.xticks([])\n",
    "    plt.yticks([])\n",
    "    plt.imshow(X_train[i][:,:,0])\n",
    "plt.show()"
   ]
  },
  {
   "cell_type": "markdown",
   "metadata": {},
   "source": [
    "Vemos que cada instancia corresponde a un número manuscrito. Además, podemos observar a ojo que las imágenes son bastante claras y no presentan un ruido visible. A pesar de esto, es necesario realizar un estudio cuantitativo para entender mejor el ruido en nuestro dataset."
   ]
  },
  {
   "cell_type": "markdown",
   "metadata": {},
   "source": [
    "##### Ruido Gaussiano"
   ]
  },
  {
   "cell_type": "markdown",
   "metadata": {},
   "source": [
    "Para empezar, hacemos un breve análisis valiéndonos del módulo $\\texttt{estimate_sigma}$ proporcionado por scikit. Este, mide la desviación estándar del ruido gaussiano de una señal. Se entiende que si la distribución de la imagen presenta un $\\sigma$ cercano a 0, la imagen es poco ruidosa. Por otro lado, el ruido gaussiano normal, presenta un $\\sigma = 1$. Si el módulo devuelve un valor cercano a este, se entiende que la imagen se asemeja a la de una distribución normal de píxeles, entendida como $\\textit{ruido gaussiano}$."
   ]
  },
  {
   "cell_type": "code",
   "execution_count": 13,
   "metadata": {},
   "outputs": [
    {
     "name": "stdout",
     "output_type": "stream",
     "text": [
      "\n",
      " La desviación estándar media de nuestro dataset es: 0.0710275309741942 \n",
      " La desviación estándar media de un ensamble de ruido blanco es: 0.9622817527794697\n"
     ]
    }
   ],
   "source": [
    "import skimage.data\n",
    "from skimage import img_as_float\n",
    "from skimage.restoration import estimate_sigma\n",
    "sigma_vec = []\n",
    "noise_vec = []\n",
    "for imnumber in range(0,X_train.shape[0]):\n",
    "    imagen = X_train[imnumber][:,:,0]\n",
    "    noise = np.random.standard_normal(size = imagen.shape)\n",
    "    sigma_imagen = estimate_sigma(imagen)\n",
    "    sigma_noise = estimate_sigma(noise)\n",
    "    sigma_vec.append(sigma_imagen)\n",
    "    noise_vec.append(sigma_noise)\n",
    "mean_sigma = np.mean(sigma_vec)\n",
    "mean_noise = np.mean(noise_vec)\n",
    "print('\\n', 'La desviación estándar media de nuestro dataset es:', mean_sigma, '\\n',\n",
    "'La desviación estándar media de un ensamble de ruido blanco es:', mean_noise)"
   ]
  },
  {
   "cell_type": "markdown",
   "metadata": {},
   "source": [
    "Podemos ver que la desviación estándar media para nuestro dataset es considerablemente menor que aquella para un ensamble de imágenes con ruido gaussiano. Esto es lógico. Podemos probar como funciona agregando ruido a una de nuestras imágenes. A continuación comparemos una imágen con y sin ruido Gaussiano.\n",
    "\n",
    "Primero graficamos el dígito escrito a mano y el ruido gaussiano por separado."
   ]
  },
  {
   "cell_type": "code",
   "execution_count": 14,
   "metadata": {},
   "outputs": [
    {
     "data": {
      "text/plain": [
       "<matplotlib.image.AxesImage at 0x21c8c9ec148>"
      ]
     },
     "execution_count": 14,
     "metadata": {},
     "output_type": "execute_result"
    },
    {
     "data": {
      "image/png": "[encoded data removed]",
      "text/plain": [
       "<Figure size 1080x1080 with 2 Axes>"
      ]
     },
     "metadata": {
      "needs_background": "light"
     },
     "output_type": "display_data"
    }
   ],
   "source": [
    "number = X_train[3252][:,:,0]\n",
    "random_im = np.random.standard_normal(size = imagen.shape)\n",
    "fig = plt.figure(figsize = (15,15))\n",
    "plt.subplot(1,2,1)\n",
    "plt.imshow(number, cmap = 'PuRd')\n",
    "plt.subplot(1,2,2)\n",
    "plt.imshow(random_im)"
   ]
  },
  {
   "cell_type": "markdown",
   "metadata": {},
   "source": [
    "Si calculamos el sigma de cada una, obtenemos: "
   ]
  },
  {
   "cell_type": "code",
   "execution_count": 15,
   "metadata": {},
   "outputs": [
    {
     "name": "stdout",
     "output_type": "stream",
     "text": [
      "\n",
      " La desviación estándar del seis es: 0.09515176442861432 \n",
      " La desviación estándar del ruido es: 0.944151171853512\n"
     ]
    }
   ],
   "source": [
    "sigma_number = estimate_sigma(number)\n",
    "sigma_noise = estimate_sigma(random_im)\n",
    "print('\\n', 'La desviación estándar del seis es:', sigma_number, '\\n',\n",
    "'La desviación estándar del ruido es:', sigma_noise)"
   ]
  },
  {
   "cell_type": "markdown",
   "metadata": {},
   "source": [
    "Ahora, agregando ruido a nuestro dígito: "
   ]
  },
  {
   "cell_type": "code",
   "execution_count": 18,
   "metadata": {},
   "outputs": [
    {
     "data": {
      "text/plain": [
       "<matplotlib.image.AxesImage at 0x21c96569148>"
      ]
     },
     "execution_count": 18,
     "metadata": {},
     "output_type": "execute_result"
    },
    {
     "data": {
      "image/png": "[encoded data removed]",
      "text/plain": [
       "<Figure size 1080x1080 with 2 Axes>"
      ]
     },
     "metadata": {
      "needs_background": "light"
     },
     "output_type": "display_data"
    }
   ],
   "source": [
    "noise_six = X_train[3252][:,:,0] +  0.3*np.random.standard_normal(size = imagen.shape)\n",
    "random_im = np.random.standard_normal(size = imagen.shape)\n",
    "fig = plt.figure(figsize = (15,15))\n",
    "plt.subplot(1,2,1)\n",
    "plt.imshow(noise_number, cmap = 'PuRd')\n",
    "plt.subplot(1,2,2)\n",
    "plt.imshow(random_im)"
   ]
  },
  {
   "cell_type": "markdown",
   "metadata": {},
   "source": [
    "Si nuestra imágen tiene ruido gaussiano, $\\texttt{estimate_sigma}$ nos podría dar una buena pista:"
   ]
  },
  {
   "cell_type": "code",
   "execution_count": 19,
   "metadata": {},
   "outputs": [
    {
     "name": "stdout",
     "output_type": "stream",
     "text": [
      "\n",
      " La desviación estándar del seis es: 0.3142080668290643 \n",
      " La desviación estándar del ruido es: 0.929363900682432\n"
     ]
    }
   ],
   "source": [
    "sigma_noise_six = estimate_sigma(noise_six)\n",
    "sigma_noise = estimate_sigma(random_im)\n",
    "print('\\n', 'La desviación estándar del seis es:', sigma_noise_six, '\\n',\n",
    "'La desviación estándar del ruido es:', sigma_noise)"
   ]
  },
  {
   "cell_type": "markdown",
   "metadata": {},
   "source": [
    "Podemos ver que la imagen con ruido Gaussiano tiene un sigma más cercano a 1"
   ]
  },
  {
   "cell_type": "markdown",
   "metadata": {},
   "source": [
    "Si bien esta medida da una buena idea de la presencia de ruido gaussiano en una imagen, este parámetro no es determinante y un valor alto (en principio mayor a 1) podría no necesariamente deberse a ruido normal. Una vez que este estimador nos da una pista, es necesario un análisis más profundo. En nuestro caso, podemos descartar la presencia de imágenes con mucho ruido gaussiano. Sin embargo, las imágenes podrían presentar otras formas de ruido como un patrón periódico o ruido uniforme."
   ]
  },
  {
   "cell_type": "markdown",
   "metadata": {},
   "source": [
    "##### Ruido uniforme"
   ]
  },
  {
   "cell_type": "markdown",
   "metadata": {},
   "source": [
    "Para estudiar el ruido uniforme en nuestros datos realizaremos un análisis estadístico. Compararemos la distribución del promedio de intensidades de cada imágen de un ensamble de imágenes con intensidad uniforme.\n",
    "\n",
    "El $\\textbf{Teorema Central del Límite}$ (TCL) establece que si una variable aleatoria $S$ es el promedio de variables aleatorias, es decir, $S =\\frac {X_1+ \\dots + X_n} {n}$, entonces la distribución de $S$ será aproximadamente una distribución normal para $n$ grande. Si las variables aleatorias $X_i$ tienen la misma distribución, con $\\mu$ y $\\sigma$, entonces la distribución de $S$ será aproximadamente ~$N(\\mu,\\sigma/\\sqrt{n})$\n",
    "\n",
    "Para nuestro problema podemos construir $S$ como el promedio de las intensidad de los píxeles de cada imágen, es decir, la suma de cada uno de los $784$ píxeles. Escribiendo la intensidad de cada píxel como $X_i$, $S$ se puede escribir como:\n",
    "\n",
    "$$\n",
    "\\begin{equation}\n",
    "S =  \\frac{1}{748}\\sum_i^{784}X_i\n",
    "\\end{equation}\n",
    "$$\n",
    "\n",
    "Veamos la distribución del promedio de intensidad de un ensamble de imágenes con intensidad uniforme. Usaremos la misma cantidad de imágenes que tiene nuestro $\\textit{train set}$\n"
   ]
  },
  {
   "cell_type": "code",
   "execution_count": 26,
   "metadata": {},
   "outputs": [
    {
     "data": {
      "image/png": "[encoded data removed]",
      "text/plain": [
       "<Figure size 432x288 with 1 Axes>"
      ]
     },
     "metadata": {
      "needs_background": "light"
     },
     "output_type": "display_data"
    }
   ],
   "source": [
    "vec = []\n",
    "for i in range(0,1000000):\n",
    "    img = np.random.uniform(size = (28, 28))\n",
    "    vec.append(img.mean())\n",
    "plt.hist(vec, bins = 500, rwidth = 2) \n",
    "plt.show()"
   ]
  },
  {
   "cell_type": "code",
   "execution_count": 27,
   "metadata": {},
   "outputs": [
    {
     "data": {
      "text/plain": [
       "0.5000049919806119"
      ]
     },
     "execution_count": 27,
     "metadata": {},
     "output_type": "execute_result"
    }
   ],
   "source": [
    "np.mean(vec) "
   ]
  },
  {
   "cell_type": "code",
   "execution_count": 28,
   "metadata": {},
   "outputs": [
    {
     "data": {
      "text/plain": [
       "0.01033491441872449"
      ]
     },
     "execution_count": 28,
     "metadata": {},
     "output_type": "execute_result"
    }
   ],
   "source": [
    "estimate_sigma(np.array(vec))"
   ]
  },
  {
   "cell_type": "markdown",
   "metadata": {},
   "source": [
    " El TCL también nos dice que el sigma de $S$ debe estar cerca de $\\sigma/\\sqrt{n}$, en nuestro caso $X_i$ vienen de una distribución uniforme ($\\sigma = \\frac{1}{\\sqrt{12}}$), entonces then $\\sigma_S$ ~ $\\frac{1}{\\sqrt(12)}\\frac{1}{\\sqrt{748}}$"
   ]
  },
  {
   "cell_type": "markdown",
   "metadata": {},
   "source": [
    "Como podemos observar en la imágenes y cálculos previos, $S$ tiene una distribución aproximadamente Gaussiana. Debido a que intensidades van de $0$ to $1$ el promedio de $S$ será  $\\mu = 0.5$. Ahora que sabemos cómo se comporta un ensamble de imágenes hechas de ruido uniforme, vamos a compararlo con la distribución construida a partir de nuestro dataset.  Diremos que nuestro dataset es más ruidoso cuanto más cerca esté su distribución de intensidades a la distribución del ruido .\n",
    "\n",
    "A continuación mostramos las distribuciones de: nuestro conjunto de datos, nuestro conjunto de datos con ruido uniforme y el conjunto de ruido uniforme:"
   ]
  },
  {
   "cell_type": "code",
   "execution_count": 252,
   "metadata": {
    "scrolled": true
   },
   "outputs": [
    {
     "data": {
      "image/png": "[encoded data removed]",
      "text/plain": [
       "<Figure size 432x288 with 1 Axes>"
      ]
     },
     "metadata": {
      "needs_background": "light"
     },
     "output_type": "display_data"
    }
   ],
   "source": [
    "img_number = X_train.shape[0]\n",
    "vec = []\n",
    "vec2 = []\n",
    "vec3 = []\n",
    "for i in range(0,img_number):\n",
    "    img =  X_train[i][:,:,0] \n",
    "    img = img/img.max()\n",
    "    vec.append(img.mean())\n",
    "    img = X_train[i][:,:,0]  + 0.6*np.random.uniform(size = (28, 28))\n",
    "    img = img/img.max()\n",
    "    vec2.append(img.mean())\n",
    "    img = np.random.uniform(size = (28, 28))\n",
    "    img = img/img.max()\n",
    "    vec3.append(img.mean())\n",
    "plt.hist([vec, vec2, vec3], bins = 500, rwidth = 2, label = ['Trainset', 'Trainset con ruido', 'Ruido'])\n",
    "plt.legend(loc = 'upper left')\n",
    "plt.show()"
   ]
  },
  {
   "cell_type": "code",
   "execution_count": 253,
   "metadata": {},
   "outputs": [
    {
     "name": "stdout",
     "output_type": "stream",
     "text": [
      "\n",
      " El sigma del trainset es: 0.04309035996190209 \n",
      " El sigma del trainset con ruido es: 0.026339311984114495 \n",
      " El sigma del ruido es: 0.010157342117533741 \n",
      " La media del trainset es: 0.1310661494565955 \n",
      " La media del trainset con ruido es: 0.27272880856446213 \n",
      " La media del ruido es: 0.5006280186747322\n"
     ]
    }
   ],
   "source": [
    "sigma_trainset =  estimate_sigma(np.array(vec))\n",
    "sigma_noisy_trainset = estimate_sigma(np.array(vec2))\n",
    "sigma_noise = estimate_sigma(np.array(vec3))\n",
    "\n",
    "mean_trainset = np.mean(vec)\n",
    "mean_noisy_trainset = np.mean(vec2)\n",
    "mean_noise = np.mean(vec3)\n",
    "\n",
    "print('\\n', 'El sigma del trainset es:', sigma_trainset,\n",
    "     '\\n', 'El sigma del trainset con ruido es:', sigma_noisy_trainset,\n",
    "     '\\n', 'El sigma del ruido es:', sigma_noise,\n",
    "     '\\n', 'La media del trainset es:', mean_trainset,\n",
    "     '\\n', 'La media del trainset con ruido es:', mean_noisy_trainset,\n",
    "     '\\n', 'La media del ruido es:', mean_noise,)"
   ]
  },
  {
   "cell_type": "markdown",
   "metadata": {},
   "source": [
    "De esta manera, podemos armarnos de un set de parámetros para comparar nuestra distribución con la distribución característica del ruido uniforme. Vemos como nuestro dataset presenta una media de $\\mu_{train} = 0.1$ mientras que el ruido característico $\\mu_{ruido} = 0.5$. Además, se observa que la distribución del trainset con ruido agregado se posiciona, como era esperable, con una media que cae entre las anteriores dos. Por otro lado, vemos que la distribución del trainset presenta una varianza 4 veces mayor que la del ruido. Con este análisis, y para este caso en particular, podríamos concluir que nuestro dataset tampoco presenta una cantidad considerable de ruido uniforme. Sin embargo, para un análisis más concluyente, habría que pesar estos parámetros mencionados sumados a los lanzados por un ajuste gaussiano a todas las distribuciones. Un análisis del tipo $\\chi^2$ podría ser útil para darnos una idea de cuán parecido es nuestro dataset a la distribución característica del ruido uniforme.\n",
    "\n",
    "De nuevo, este sencillo análisis nos puede guiar o dar una idea de la presencia de ruido uniforme pero no es concluyente y su resultado podría inferir distintas cosas. Por ejemplo, un dataset suficientemente patológico podría resultar en una distribución gaussiana similar a la resultante de un ensamble de ruido uniforme. Con la sospecha de que nuestro dataset es poco ruidoso, nos valdremos del módulo $\\texttt{ndimage}$ de $\\texttt{scipy}$. Intentaremos reobtener el ruido de nuestras imágenes a partir de sustraer la información no ruidosa:\n"
   ]
  },
  {
   "cell_type": "code",
   "execution_count": 301,
   "metadata": {},
   "outputs": [
    {
     "data": {
      "text/plain": [
       "<matplotlib.image.AxesImage at 0x161bd81ba58>"
      ]
     },
     "execution_count": 301,
     "metadata": {},
     "output_type": "execute_result"
    },
    {
     "data": {
      "image/png": "[encoded data removed]",
      "text/plain": [
       "<Figure size 1080x1080 with 5 Axes>"
      ]
     },
     "metadata": {
      "needs_background": "light"
     },
     "output_type": "display_data"
    }
   ],
   "source": [
    "from scipy import ndimage\n",
    "\n",
    "image =  X_train[25][:,:,0] \n",
    "gauss_denoised = ndimage.gaussian_filter(image, 2)\n",
    "med_denoised = ndimage.median_filter(image, 3)\n",
    "gauss_noise = X_train[25][:,:,0]  - gauss_denoised\n",
    "med_noise = X_train[25][:,:,0]  - med_denoised\n",
    "\n",
    "fig = plt.figure(figsize = (15,15))\n",
    "plt.subplot(1,5,1)\n",
    "plt.title('Original Image')\n",
    "plt.imshow(image)\n",
    "plt.subplot(1,5,2)\n",
    "plt.title('Normal denoised')\n",
    "plt.imshow(med_denoised)\n",
    "plt.subplot(1,5,3)\n",
    "plt.title('Gaussian denoised')\n",
    "plt.imshow(gauss_denoised)\n",
    "plt.subplot(1,5,4)\n",
    "plt.title('Gaussian Noise')\n",
    "plt.imshow(gauss_noise)\n",
    "plt.subplot(1,5,5)\n",
    "plt.title('Normal Noise')\n",
    "plt.imshow(med_noise)"
   ]
  },
  {
   "cell_type": "markdown",
   "metadata": {},
   "source": [
    "Podemos concluir que nuestro dataset es poco ruidoso. En estos casos, hay que tener cuidado con aplicar filtros gaussianos. Si observamos la celda anterior, vemos que el resultado de haber aplicado este filtro es una imagen $\\textit{blurreada}$. Partimos de una imagen nítida y poco ruidosa y obtenemos una imagen en la que se han filtrado todos los bordes claros, que han quedado en $\\texttt{Gaussian Noise}$. Esto es un precio que alguien podría querer pagar si el dataset presenta una considerable cantidad de ruido. En otro caso, es recomendable no usar este tipo de filtros. Por otro lado, vemos que el resultado de sacar el ruido medio prácticamente no varía respecto de la imagen original. Esto es esperable en imágenes poco ruidosas."
   ]
  },
  {
   "cell_type": "markdown",
   "metadata": {},
   "source": [
    "##### Ruido periódico"
   ]
  },
  {
   "cell_type": "markdown",
   "metadata": {},
   "source": [
    "Para tener un análisis de las fuentes más comunes de ruido también analizaremos el ruido periódico. En este caso podría servir estudiar la transformada de fourier bidimensional. Observemos lo que ocurre al sumar a una de nuestras imágenes, un patrón periódico:"
   ]
  },
  {
   "cell_type": "code",
   "execution_count": 343,
   "metadata": {},
   "outputs": [
    {
     "data": {
      "text/plain": [
       "<matplotlib.image.AxesImage at 0x161d0bb4438>"
      ]
     },
     "execution_count": 343,
     "metadata": {},
     "output_type": "execute_result"
    },
    {
     "data": {
      "image/png": "[encoded data removed]",
      "text/plain": [
       "<Figure size 1080x1080 with 3 Axes>"
      ]
     },
     "metadata": {
      "needs_background": "light"
     },
     "output_type": "display_data"
    }
   ],
   "source": [
    "[X,Y] = np.meshgrid(2*np.pi * np.arange(28)/12,2*np.pi * np.arange(28)/34)\n",
    "circles = np.sin(Y+X) +  np.cos(10* Y) + np.cos(2* Y) + np.cos(4* X) + np.cos(4* X)  #+ np.random.uniform(0,0.02,X.shape)\n",
    "fig = plt.figure(figsize = (15,15))\n",
    "image =  X_train[25][:,:,0] \n",
    "pattern_number = image + 0.3*circles\n",
    "plt.subplot(1,3,1)\n",
    "plt.title('Original Image')\n",
    "plt.imshow(image)\n",
    "plt.subplot(1,3,2)\n",
    "plt.title('Pattern Noise')\n",
    "plt.imshow(circles)\n",
    "plt.subplot(1,3,3)\n",
    "plt.title('Noisy Image')\n",
    "plt.imshow(pattern_number)"
   ]
  },
  {
   "cell_type": "markdown",
   "metadata": {},
   "source": [
    "Luego, analizamos las frecuencias de este ruido periódico a partir de la transformada de fourier de la imagen ruidosa:"
   ]
  },
  {
   "cell_type": "code",
   "execution_count": 349,
   "metadata": {},
   "outputs": [
    {
     "data": {
      "text/plain": [
       "Text(0.5, 1.0, 'Fourier transform')"
      ]
     },
     "execution_count": 349,
     "metadata": {},
     "output_type": "execute_result"
    },
    {
     "data": {
      "image/png": "[encoded data removed]",
      "text/plain": [
       "<Figure size 432x288 with 2 Axes>"
      ]
     },
     "metadata": {
      "needs_background": "light"
     },
     "output_type": "display_data"
    }
   ],
   "source": [
    "from scipy import fftpack\n",
    "im_fft = fftpack.fft2(pattern_number)\n",
    "def plot_spectrum(im_fft):\n",
    "    from matplotlib.colors import LogNorm\n",
    "    # A logarithmic colormap\n",
    "    plt.imshow(np.abs(im_fft), norm=LogNorm(vmin=5))\n",
    "    plt.colorbar()\n",
    "\n",
    "plt.figure()\n",
    "plot_spectrum(im_fft)\n",
    "plt.title('Fourier transform')"
   ]
  },
  {
   "cell_type": "markdown",
   "metadata": {},
   "source": [
    "Ahora, en el espacio de frecuencias, vemos los lugares de la matriz en los que se encienden modos normales. Estos modos, que se representan como picos de intensidad en el espacio de frecuencias, corresponden al ruido periódico que agregamos. Entonces, ahora que los localizamos, basta con aplicar un filtro para estos elementos de matriz:"
   ]
  },
  {
   "cell_type": "code",
   "execution_count": 356,
   "metadata": {},
   "outputs": [
    {
     "data": {
      "text/plain": [
       "Text(0.5, 1.0, 'Filtered Spectrum')"
      ]
     },
     "execution_count": 356,
     "metadata": {},
     "output_type": "execute_result"
    },
    {
     "data": {
      "image/png": "[encoded data removed]",
      "text/plain": [
       "<Figure size 432x288 with 2 Axes>"
      ]
     },
     "metadata": {
      "needs_background": "light"
     },
     "output_type": "display_data"
    }
   ],
   "source": [
    "\n",
    "im_fft2 = im_fft.copy()\n",
    "\n",
    "\n",
    "im_fft2[[0,1,27],:] = 0\n",
    "\n",
    "im_fft2[:, 0:1] = 0\n",
    "\n",
    "plt.figure()\n",
    "plot_spectrum(im_fft2)\n",
    "plt.title('Filtered Spectrum')"
   ]
  },
  {
   "cell_type": "markdown",
   "metadata": {},
   "source": [
    "Ahora calculamos la transformada inversa y vemos la imagen reobtenida:"
   ]
  },
  {
   "cell_type": "code",
   "execution_count": 357,
   "metadata": {},
   "outputs": [
    {
     "data": {
      "text/plain": [
       "Text(0.5, 1.0, 'Reconstructed Image')"
      ]
     },
     "execution_count": 357,
     "metadata": {},
     "output_type": "execute_result"
    },
    {
     "data": {
      "image/png": "[encoded data removed]",
      "text/plain": [
       "<Figure size 432x288 with 1 Axes>"
      ]
     },
     "metadata": {
      "needs_background": "light"
     },
     "output_type": "display_data"
    }
   ],
   "source": [
    "# Reconstruct the denoised image from the filtered spectrum, keep only the\n",
    "# real part for display.\n",
    "im_new = fftpack.ifft2(im_fft2).real\n",
    "\n",
    "plt.figure()\n",
    "plt.imshow(im_new)\n",
    "plt.title('Reconstructed Image')"
   ]
  },
  {
   "cell_type": "markdown",
   "metadata": {},
   "source": [
    "¡Reobtenemos la misma imagen pero nos sacamos de encima el patrón de ruido! \n",
    "\n",
    "Todas la técnicas previas pueden ser usadas para filtrar los distintos tipos de ruido para obtener imágenes de mejor calidad para entrenar nuestros modelos."
   ]
  },
  {
   "cell_type": "markdown",
   "metadata": {},
   "source": [
    "### Análisis de redes neuronales convolucionales (CNN)"
   ]
  },
  {
   "cell_type": "markdown",
   "metadata": {},
   "source": [
    "Finalmente, probamos algunas arquitecturas de red convolucional y discutimos algunas características. Lo primero, reservamos una fracción del 20\\% del train-set para validación cruzada durante el entrenamiento: "
   ]
  },
  {
   "cell_type": "code",
   "execution_count": 5,
   "metadata": {},
   "outputs": [],
   "source": [
    "#Split train test\n",
    "X_train, X_val, y_train, y_val = train_test_split(X_train, y_train, test_size = 0.2, random_state=random_seed)"
   ]
  },
  {
   "cell_type": "markdown",
   "metadata": {},
   "source": [
    "A continuación definimos algunos parámetros importantes. Entre ellos, la función de activación, la función de pérdida y la métrica a mirar durante el entrenamiento. La función de activación es un operación sobre cada neurona dependiendo del $\\textit{input}$. El caso básico es el de la función escalón, que prende o no la neurona dependiendo del valor de entrada. En este caso usamos $\\textit{ReLU}$ o $\\textit{Rectified Linear Unit}$. Esta función de activación está optimizada en especial para redes convolucionales profundas. Tiene ciertas ventajas como facilidad numérica en las operaciones algebraicas que implica y proporciona una mejor convergencia dado que minimiza los problemas por $\\textit{gradient vanishing}$.\n",
    "\n",
    "Como función de pérdida utilizamos $\\textit{categorical cross entropy}$. Esta función es usual en problemas multiclase, donde se asigna como pérdida la entropía de la distribución de probabilidades de cada clase. Además, en este casos de clasificación, donde la predicción correcta es solo una, resulta útil usar esta entropía en la cual el único término no nulo de la entropía es aquel correspondiente a la clase positiva.\n",
    "\n",
    "Por último, elegimos mirar $\\textit{accuracy}$ como métrica. Resulta lo más intuitivo y fácil para problemas con buen balance de clase.\n"
   ]
  },
  {
   "cell_type": "code",
   "execution_count": 6,
   "metadata": {},
   "outputs": [],
   "source": [
    "#CNN\n",
    "#hyperparams\n",
    "activation = 'relu'\n",
    "#initializer = keras.initializers.lecun_uniform(seed=42)\n",
    "filters = 32\n",
    "kernel_size = (5,5)\n",
    "init_learning_rate = 0.001\n",
    "\n",
    "loss = 'categorical_crossentropy'\n",
    "epochs = 30\n",
    "dataset_size = X_train.shape[0]\n",
    "batch_size = 86\n",
    "metric = ['accuracy']"
   ]
  },
  {
   "cell_type": "markdown",
   "metadata": {},
   "source": [
    "El algoritmo de $\\texttt{ReduceLROnPlateau}$ actualiza el valor del learning rate cuando la minimización de la función de pérdida se estanca en el proceso de aprendizaje. Resulta una manera dinámica de optimizar los parámetros de la red sin tener que detener el entrenamiento. "
   ]
  },
  {
   "cell_type": "code",
   "execution_count": 7,
   "metadata": {},
   "outputs": [],
   "source": [
    "lr_reduction = ReduceLROnPlateau(monitor='val_acc',\n",
    "                                            patience=1,\n",
    "                                            verbose=1,\n",
    "                                            factor=0.1,\n",
    "                                            min_lr=0.000001)\n"
   ]
  },
  {
   "cell_type": "markdown",
   "metadata": {},
   "source": [
    "A continuación, mostramos la estructura de la red convolucional más básica posible. Se trata de una capa de convolución 2D. Esta capa lo que hace es realizar convoluciones de la imágen con distintos filtros. En este caso, el número de filtros es $\\texttt{filters = 32}$. Cada filtro se \"concentra\" en un aspecto particular de la imágen. Por ejemplo, un filtro se centra en las líneas horizontales, otro en las verticales y otro en las diagonales. Otro filtro puede centrarse en formas circulares, $\\textit{and so on...}$ De esta manera, obtenemos una \"descomposición\" de 32 imágenes que guardan un aspecto particular de nuestra imagen de entrada. Los filtros están impresos en una matriz más pequeña llamada $\\textit{kernel}$. En este caso $\\texttt{kernel_size} = (5,5)$.\n",
    "\n",
    "La capa de salida está conformada por $\\texttt{Flatten}$ y $\\texttt{Dense}$. La primera, solo convierte el input a un vector de una dimensión, como suele usarse en la salida de cualquier NN. $\\texttt{Dense}$ es una capa que por definición tiene una neurona por cada $\\textit{feature}$. En este caso, una por cada píxel. Esta transforma el input a la forma y dimensión deseada. En este caso, un vector de 256 elementos, uno por cada valor posible del píxel. Por último se convierte el output a una distribución de probabilidad de cada una de las $10$ clases.\n"
   ]
  },
  {
   "cell_type": "code",
   "execution_count": 8,
   "metadata": {},
   "outputs": [
    {
     "name": "stdout",
     "output_type": "stream",
     "text": [
      "WARNING:tensorflow:From C:\\Users\\Anaconda3\\lib\\site-packages\\keras\\backend\\tensorflow_backend.py:74: The name tf.get_default_graph is deprecated. Please use tf.compat.v1.get_default_graph instead.\n",
      "\n",
      "WARNING:tensorflow:From C:\\Users\\Anaconda3\\lib\\site-packages\\keras\\backend\\tensorflow_backend.py:517: The name tf.placeholder is deprecated. Please use tf.compat.v1.placeholder instead.\n",
      "\n",
      "WARNING:tensorflow:From C:\\Users\\Anaconda3\\lib\\site-packages\\keras\\backend\\tensorflow_backend.py:4138: The name tf.random_uniform is deprecated. Please use tf.random.uniform instead.\n",
      "\n"
     ]
    }
   ],
   "source": [
    "model = Sequential()\n",
    "#input layer\n",
    "model.add(Conv2D(filters = filters, kernel_size = kernel_size,\n",
    "                 strides = 1, padding = 'Same',\n",
    "                 activation =activation, input_shape = (28,28,1)))\n",
    "\n",
    "\n",
    "#output layer\n",
    "model.add(Flatten())\n",
    "model.add(Dense(256, activation = activation)) #dense de 2^n\n",
    "model.add(Dense( 10,activation = 'softmax'))"
   ]
  },
  {
   "cell_type": "markdown",
   "metadata": {},
   "source": [
    "En la siguiente tabla podemos ver la estructura de la red:"
   ]
  },
  {
   "cell_type": "code",
   "execution_count": 10,
   "metadata": {},
   "outputs": [
    {
     "name": "stdout",
     "output_type": "stream",
     "text": [
      "_________________________________________________________________\n",
      "Layer (type)                 Output Shape              Param #   \n",
      "=================================================================\n",
      "conv2d_1 (Conv2D)            (None, 28, 28, 32)        832       \n",
      "_________________________________________________________________\n",
      "flatten_1 (Flatten)          (None, 25088)             0         \n",
      "_________________________________________________________________\n",
      "dense_1 (Dense)              (None, 256)               6422784   \n",
      "_________________________________________________________________\n",
      "dense_2 (Dense)              (None, 10)                2570      \n",
      "=================================================================\n",
      "Total params: 6,426,186\n",
      "Trainable params: 6,426,186\n",
      "Non-trainable params: 0\n",
      "_________________________________________________________________\n"
     ]
    }
   ],
   "source": [
    "model.summary()"
   ]
  },
  {
   "cell_type": "markdown",
   "metadata": {},
   "source": [
    "El algoritmo de optimización utilizado es $\\texttt{RMSprop}$. Le debe su fama a su gran capacidad de convergencia, siendo considerablemente más rápido y efectivo que el resto. Además el módulo $\\texttt{Keras}$ sugiere no tocar los hiperparámetros default por encontrarse optimizado para su utilización. Elegido el optimizador, entrenamos este primer modelo:"
   ]
  },
  {
   "cell_type": "code",
   "execution_count": 17,
   "metadata": {},
   "outputs": [
    {
     "name": "stdout",
     "output_type": "stream",
     "text": [
      "Train on 33600 samples, validate on 8400 samples\n",
      "Epoch 1/6\n",
      "33600/33600 [==============================] - 50s 1ms/step - loss: 0.0032 - acc: 0.9991 - val_loss: 0.0781 - val_acc: 0.9856\n",
      "Epoch 2/6\n",
      "33600/33600 [==============================] - 51s 2ms/step - loss: 0.0018 - acc: 0.9996 - val_loss: 0.0861 - val_acc: 0.9838\n",
      "\n",
      "Epoch 00002: ReduceLROnPlateau reducing learning rate to 0.00010000000474974513.\n",
      "Epoch 3/6\n",
      "33600/33600 [==============================] - 51s 2ms/step - loss: 6.5489e-04 - acc: 0.9999 - val_loss: 0.0823 - val_acc: 0.9854\n",
      "\n",
      "Epoch 00003: ReduceLROnPlateau reducing learning rate to 1.0000000474974514e-05.\n",
      "Epoch 4/6\n",
      "33600/33600 [==============================] - 50s 1ms/step - loss: 4.9125e-04 - acc: 1.0000 - val_loss: 0.0811 - val_acc: 0.9861\n",
      "Epoch 5/6\n",
      "33600/33600 [==============================] - 51s 2ms/step - loss: 4.8999e-04 - acc: 1.0000 - val_loss: 0.0814 - val_acc: 0.9860\n",
      "\n",
      "Epoch 00005: ReduceLROnPlateau reducing learning rate to 1.0000000656873453e-06.\n",
      "Epoch 6/6\n",
      "33600/33600 [==============================] - 52s 2ms/step - loss: 4.8811e-04 - acc: 1.0000 - val_loss: 0.0814 - val_acc: 0.9861\n",
      "\n",
      "Epoch 00006: ReduceLROnPlateau reducing learning rate to 1e-06.\n"
     ]
    }
   ],
   "source": [
    "optimizer = RMSprop(lr=0.001, rho=0.9, epsilon=1e-08, decay=0.0)\n",
    "model.compile(optimizer = optimizer, loss = loss, metrics = metric)\n",
    "\n",
    "history1 = model.fit(X_train,y_train, epochs = 6,  batch_size = batch_size, validation_data = (X_val,y_val), callbacks = [lr_reduction])"
   ]
  },
  {
   "cell_type": "markdown",
   "metadata": {},
   "source": [
    "Dos cosas resultan destacables del anterior entrenamiento. Lo primero es que el score obtenido es considerablemente bueno. Esto se debe a la fidelidad y tamaño del dataset. Dado este, con una red convolucional genérica como la testeada en este caso, es prácticamente inmediato obtener una $\\textit{accuracy}$ de validación del $98.7\\%$ si se eligen apropiadamente los hiperparámetros de la red. Sin embargo, dada la potencia de este dataset, una mejor arquitectura puede arrojar scores del $99.7\\%$. Luego, una buena performance para este caso se juega en la segunda o tercera cifra significativa de la métrica en cuestión. Lo segundo destacable es que, como vemos en la diferencia entre las métricas de validación y las de entrenamiento, en este caso el entrenamiento presenta un considerable $\\textit{overfitting}$. Podemos ver que la accuracy de validación es de $acc_{val} = 0.987$ mientras que la accuracy de entrenamiento arroja un $acc_{train} = 0.999$. Lo mismo indica la relación entre las funciones de pérdida.\n",
    "\n",
    "Un buen método para contrarrestar la tendencia al overfitting es aumentar el tamaño de nuestro dataset. Para esto, podemos tomar las imágenes que tenemos y deformarlas con estiramientos y rotaciones para simular más muestras. Utilizaremos el módulo $\\texttt{ImageDataGenerator}$ de Keras.\n"
   ]
  },
  {
   "cell_type": "code",
   "execution_count": 19,
   "metadata": {},
   "outputs": [],
   "source": [
    "datagen = ImageDataGenerator(\n",
    "    featurewise_center=False,  # set input mean to 0 over the dataset\n",
    "    samplewise_center=False,  # set each sample mean to 0\n",
    "    featurewise_std_normalization=False,  # divide inputs by std of the dataset\n",
    "    samplewise_std_normalization=False,  # divide each input by its std\n",
    "    zca_whitening=False,  # apply ZCA whitening\n",
    "    rotation_range=10,  # randomly rotate images in the range (degrees, 0 to 180)\n",
    "    zoom_range = 0.0, # Randomly zoom image\n",
    "    width_shift_range=0.1,  # randomly shift images horizontally (fraction of total width)\n",
    "    height_shift_range=0.1,  # randomly shift images vertically (fraction of total height)\n",
    "    horizontal_flip=False,  # randomly flip images\n",
    "    vertical_flip=False)  # randomly flip images\n",
    "\n",
    "datagen.fit(X_train)"
   ]
  },
  {
   "cell_type": "markdown",
   "metadata": {},
   "source": [
    "Luego volvemos a entrenar la misma red pero utilizando el dataset aumentado: "
   ]
  },
  {
   "cell_type": "code",
   "execution_count": 20,
   "metadata": {},
   "outputs": [
    {
     "name": "stdout",
     "output_type": "stream",
     "text": [
      "Epoch 1/10\n",
      "500/500 [==============================] - 67s 135ms/step - loss: 0.2003 - acc: 0.9445 - val_loss: 0.0416 - val_acc: 0.9852\n",
      "Epoch 2/10\n",
      "500/500 [==============================] - 66s 132ms/step - loss: 0.0965 - acc: 0.9715 - val_loss: 0.0451 - val_acc: 0.9858\n",
      "Epoch 3/10\n",
      "500/500 [==============================] - 67s 133ms/step - loss: 0.0797 - acc: 0.9759 - val_loss: 0.0320 - val_acc: 0.9886\n",
      "Epoch 4/10\n",
      "500/500 [==============================] - 69s 137ms/step - loss: 0.0688 - acc: 0.9793 - val_loss: 0.0345 - val_acc: 0.9890\n",
      "Epoch 5/10\n",
      "500/500 [==============================] - 66s 132ms/step - loss: 0.0618 - acc: 0.9820 - val_loss: 0.0286 - val_acc: 0.9910\n",
      "Epoch 6/10\n",
      "500/500 [==============================] - 66s 132ms/step - loss: 0.0563 - acc: 0.9832 - val_loss: 0.0361 - val_acc: 0.9886\n",
      "\n",
      "Epoch 00006: ReduceLROnPlateau reducing learning rate to 0.00010000000474974513.\n",
      "Epoch 7/10\n",
      "500/500 [==============================] - 65s 130ms/step - loss: 0.0455 - acc: 0.9867 - val_loss: 0.0259 - val_acc: 0.9911\n",
      "Epoch 8/10\n",
      "500/500 [==============================] - 67s 134ms/step - loss: 0.0432 - acc: 0.9870 - val_loss: 0.0235 - val_acc: 0.9914\n",
      "Epoch 9/10\n",
      "500/500 [==============================] - 68s 135ms/step - loss: 0.0398 - acc: 0.9885 - val_loss: 0.0263 - val_acc: 0.9919\n",
      "Epoch 10/10\n",
      "500/500 [==============================] - 66s 132ms/step - loss: 0.0419 - acc: 0.9885 - val_loss: 0.0255 - val_acc: 0.9912\n",
      "\n",
      "Epoch 00010: ReduceLROnPlateau reducing learning rate to 1.0000000474974514e-05.\n"
     ]
    }
   ],
   "source": [
    "optimizer = RMSprop(lr=0.001, rho=0.9, epsilon=1e-08, decay=0.0)\n",
    "model.compile(optimizer = optimizer, loss = loss, metrics = metric)\n",
    "\n",
    "history = model.fit_generator(datagen.flow(X_train, y_train, batch_size = batch_size),\n",
    "                              steps_per_epoch=500, validation_data=[X_val, y_val],\n",
    "                              epochs = 10,\n",
    "                             callbacks=[lr_reduction])"
   ]
  },
  {
   "cell_type": "markdown",
   "metadata": {},
   "source": [
    "Como vemos, hemos solucionado la cuestión del overfitting. Además, al aumentar el tamaño del dataset, la performance a mejorado sustancialmente, obteniendo una accuracy de validación de $0.992$ (en una mayor cantidad de epochs puede alcanzar $0.993$). Sin embargo, sabemos que con una mejor arquitectura y valiéndonos de ciertas herramientas típicas de las redes neuronales convolucionales, este score puede mejorar sustancialmente. En particular, agregaremos dos tipos de capas que mejoran la performance de manera considerable: $\\textit{Max Pooling}$ y $\\textit{Drop Out}$.\n",
    "\n",
    "Antes de probar el resultado con estas herramientas, una breve explicación del funcionamiento de cada una. $\\textit{Max Pooling}$ es en algún sentido una herramienta de reducción dimensional. Recorre la imágen y se queda con el píxel de valor más grande en un grupo dado (parámetro modificable). De esta manera, luego de su aplicación resulta una imágen de dimensión menor que, teóricamente, conserva las características principales. Esto permite, por ejemplo, duplicar la cantidad de filtros de convolución sin aumentar la cantidad de neuronas. Por otro lado, $\\textit{Drop Out}$ funciona como un obturador de neuronas. Anula de manera azarosa una determinada fracción de neuronas de la capa en la que se lo utilice. De esta manera, en cada acción de la capa se activan neuronas distintas evitando que se cristalicen caminos preferenciales de aprendizaje y aportando robustez a la red por distribuir uniformemente la capacidad de aprendizaje. Veamos su rendimiento:\n"
   ]
  },
  {
   "cell_type": "code",
   "execution_count": 22,
   "metadata": {},
   "outputs": [],
   "source": [
    "model = Sequential()\n",
    "#input layer\n",
    "model.add(Conv2D(filters = filters, kernel_size = kernel_size,\n",
    "                 strides = 1, padding = 'Same',\n",
    "                 activation =activation, input_shape = (28,28,1)))\n",
    "model.add(Conv2D(filters = filters, kernel_size = kernel_size,\n",
    "                 strides = 1, padding = 'Same',\n",
    "                 activation =activation))\n",
    "model.add(MaxPool2D(pool_size = (2,2)))\n",
    "model.add(Dropout(0.25))\n",
    "\n",
    "model.add(Conv2D(filters = 64, kernel_size = (3,3),\n",
    "                 strides = 1, padding = 'Same',\n",
    "                 activation =activation))\n",
    "model.add(Conv2D(filters = 64, kernel_size = (3,3),\n",
    "                 strides = 1, padding = 'Same',\n",
    "                 activation =activation))\n",
    "model.add(MaxPool2D(pool_size = (2,2)))\n",
    "model.add(Dropout(0.15))\n",
    "\n",
    "#output layer\n",
    "model.add(Flatten())\n",
    "model.add(Dense(256, activation = activation)) #dense de 2^n\n",
    "model.add(Dropout(0.45))\n",
    "model.add(Dense( 10,activation = 'softmax'))"
   ]
  },
  {
   "cell_type": "code",
   "execution_count": 23,
   "metadata": {},
   "outputs": [
    {
     "name": "stdout",
     "output_type": "stream",
     "text": [
      "Epoch 1/15\n",
      "500/500 [==============================] - 103s 207ms/step - loss: 0.3586 - acc: 0.8849 - val_loss: 0.0477 - val_acc: 0.9836\n",
      "Epoch 2/15\n",
      "500/500 [==============================] - 104s 208ms/step - loss: 0.1044 - acc: 0.9691 - val_loss: 0.0345 - val_acc: 0.9887\n",
      "Epoch 3/15\n",
      "500/500 [==============================] - 103s 206ms/step - loss: 0.0764 - acc: 0.9773 - val_loss: 0.0412 - val_acc: 0.9861\n",
      "\n",
      "Epoch 00003: ReduceLROnPlateau reducing learning rate to 0.00010000000474974513.\n",
      "Epoch 4/15\n",
      "500/500 [==============================] - 104s 207ms/step - loss: 0.0495 - acc: 0.9854 - val_loss: 0.0222 - val_acc: 0.9924\n",
      "Epoch 5/15\n",
      "500/500 [==============================] - 104s 208ms/step - loss: 0.0431 - acc: 0.9867 - val_loss: 0.0203 - val_acc: 0.9939\n",
      "Epoch 6/15\n",
      "500/500 [==============================] - 102s 205ms/step - loss: 0.0407 - acc: 0.9876 - val_loss: 0.0191 - val_acc: 0.9945\n",
      "Epoch 7/15\n",
      "500/500 [==============================] - 106s 212ms/step - loss: 0.0396 - acc: 0.9880 - val_loss: 0.0201 - val_acc: 0.9938\n",
      "\n",
      "Epoch 00007: ReduceLROnPlateau reducing learning rate to 1.0000000474974514e-05.\n",
      "Epoch 8/15\n",
      "500/500 [==============================] - 103s 205ms/step - loss: 0.0385 - acc: 0.9889 - val_loss: 0.0195 - val_acc: 0.9944\n",
      "\n",
      "Epoch 00008: ReduceLROnPlateau reducing learning rate to 1.0000000656873453e-06.\n",
      "Epoch 9/15\n",
      "500/500 [==============================] - 104s 208ms/step - loss: 0.0375 - acc: 0.9890 - val_loss: 0.0195 - val_acc: 0.9946\n",
      "Epoch 10/15\n",
      "500/500 [==============================] - 110s 219ms/step - loss: 0.0346 - acc: 0.9895 - val_loss: 0.0194 - val_acc: 0.9946\n",
      "\n",
      "Epoch 00010: ReduceLROnPlateau reducing learning rate to 1e-06.\n",
      "Epoch 11/15\n",
      "500/500 [==============================] - 103s 205ms/step - loss: 0.0364 - acc: 0.9888 - val_loss: 0.0194 - val_acc: 0.9946\n",
      "Epoch 12/15\n",
      "500/500 [==============================] - 105s 211ms/step - loss: 0.0372 - acc: 0.9889 - val_loss: 0.0194 - val_acc: 0.9948\n",
      "Epoch 13/15\n",
      "500/500 [==============================] - 106s 212ms/step - loss: 0.0366 - acc: 0.9886 - val_loss: 0.0194 - val_acc: 0.9948\n",
      "Epoch 14/15\n",
      "500/500 [==============================] - 105s 210ms/step - loss: 0.0367 - acc: 0.9890 - val_loss: 0.0194 - val_acc: 0.9946\n",
      "Epoch 15/15\n",
      "500/500 [==============================] - 103s 206ms/step - loss: 0.0367 - acc: 0.9889 - val_loss: 0.0193 - val_acc: 0.9946\n"
     ]
    }
   ],
   "source": [
    "optimizer = RMSprop(lr=0.001, rho=0.9, epsilon=1e-08, decay=0.0)\n",
    "model.compile(optimizer = optimizer, loss = loss, metrics = metric)\n",
    "\n",
    "history = model.fit_generator(datagen.flow(X_train, y_train, batch_size = batch_size),\n",
    "                              steps_per_epoch=500, validation_data=[X_val, y_val],\n",
    "                              epochs = 15,\n",
    "                             callbacks=[lr_reduction])"
   ]
  },
  {
   "cell_type": "markdown",
   "metadata": {},
   "source": [
    "Como vemos, la performance ha mejorado sustancialmente alcanzando los valores esperados. En este caso se muestra un entrenamiento de pocas iteraciones. El rendimiento puede incluso mejorar con una cantidad mayor de epochs.\n",
    "\n",
    "En resumen, las redes neuronales convolucionales son particularmente preferidas para detección, reconocimiento o clasificación de imágenes. En este artículo se han presentado nociones y estructuras básicas de este tipo de redes para la clasificación de un dataset \"de juguete\". En un caso más realista con imágenes ruidosas y de mayor tamaño, será necesario un análisis más exhaustivo de la configuración de parámetros y especies y cantidad de capas para alcanzar buenos resultados. Además, el pre-procesamiento de los datos resulta crucial para explotar la potencia de este tipo de modelos."
   ]
  }
 ],
 "metadata": {
  "kernelspec": {
   "display_name": "Python 3",
   "language": "python",
   "name": "python3"
  },
  "language_info": {
   "codemirror_mode": {
    "name": "ipython",
    "version": 3
   },
   "file_extension": ".py",
   "mimetype": "text/x-python",
   "name": "python",
   "nbconvert_exporter": "python",
   "pygments_lexer": "ipython3",
   "version": "3.7.3"
  }
 },
 "nbformat": 4,
 "nbformat_minor": 2
}
